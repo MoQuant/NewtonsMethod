{
 "cells": [
  {
   "cell_type": "code",
   "execution_count": 5,
   "id": "6274affc-d083-44cf-b120-c8e99894670a",
   "metadata": {},
   "outputs": [],
   "source": [
    "import numpy as np\n",
    "from scipy.stats import norm"
   ]
  },
  {
   "cell_type": "markdown",
   "id": "56766f1a-bcbf-4bc6-828f-83b107fd4a52",
   "metadata": {},
   "source": [
    "# Newton-Ralphsons Method Applied To Finance"
   ]
  },
  {
   "cell_type": "markdown",
   "id": "84e2a47e-b9b8-4a46-8d0a-b854b58dc05e",
   "metadata": {},
   "source": [
    "## Formula\n",
    "\n",
    "$ \\Large x_{i+1} = x_i - \\dfrac{f(x_i)}{f'(x_i)} $"
   ]
  },
  {
   "cell_type": "markdown",
   "id": "fdb2f1c8-649c-4b0f-835d-beb4977c43b9",
   "metadata": {},
   "source": [
    "### Applications\n",
    "\n",
    "1. Internal Rate of Return\n",
    "2. Interest Rate Solving\n",
    "3. Implied Volatility w/ Black Scholes"
   ]
  },
  {
   "cell_type": "markdown",
   "id": "25b1ee9f-8d09-4dff-bb1f-6f3f89959058",
   "metadata": {},
   "source": [
    "## IRR\n",
    "\n",
    "$ \\Large \\begin{matrix} NPV = \\sum_{t=0}^n \\dfrac{x_t}{(1 + r)^t} \\\\ dNPV = -\\dfrac{tx_t}{(1 + r)^{t+1}} \\end{matrix} $"
   ]
  },
  {
   "cell_type": "code",
   "execution_count": 11,
   "id": "17857e97-8c68-470a-8662-509ccff4f820",
   "metadata": {},
   "outputs": [
    {
     "name": "stdout",
     "output_type": "stream",
     "text": [
      "1.454480980100925e-11\n"
     ]
    }
   ],
   "source": [
    "def INTERNALRATEOFRETURN():\n",
    "    def IRR(x):\n",
    "        \n",
    "        def F(x, r):\n",
    "            npv = 0\n",
    "            for t, cf in enumerate(x):\n",
    "                npv += cf/pow(1 + r, t)\n",
    "            return npv\n",
    "            \n",
    "        def F1(x, r):\n",
    "            npv = 0\n",
    "            for t, cf in enumerate(x):\n",
    "                npv += -t*cf/pow(1 + r, t + 1)\n",
    "            return npv\n",
    "\n",
    "        r0 = 0.01\n",
    "        r1 = 0.99\n",
    "\n",
    "        while True:\n",
    "            r1 = r0 - F(x, r0)/F1(x, r0)\n",
    "            if abs(r1 - r0) < 0.00001:\n",
    "                break\n",
    "            r0 = r1\n",
    "\n",
    "        return r1\n",
    "\n",
    "    cf = [-100, 20, 30, 40, 50, 60]\n",
    "    irr = IRR(cf)\n",
    "\n",
    "    npv = np.sum([j/pow(1 + irr, i) for i, j in enumerate(cf)])\n",
    "    print(npv)\n",
    "\n",
    "\n",
    "INTERNALRATEOFRETURN()"
   ]
  },
  {
   "cell_type": "code",
   "execution_count": 13,
   "id": "1aaa5a35-2a0b-4c74-a548-bd7382203ed6",
   "metadata": {},
   "outputs": [
    {
     "name": "stdout",
     "output_type": "stream",
     "text": [
      "500000.00001928606\n"
     ]
    }
   ],
   "source": [
    "def INTERESTRATE():\n",
    "\n",
    "    def InterestRate(balance, x, t):\n",
    "        def F(x, r, t):\n",
    "            return (x/r)*(1 - pow(1 + r, -t))\n",
    "    \n",
    "        def F1(x, r, t):\n",
    "            # AB' + BA'\n",
    "            # A = x/r\n",
    "            # B = 1 - (1+r)^-t\n",
    "            # A1 = -x/r^2\n",
    "            # B1 = t(1+r)^-t-1 -> t(1 +r)^-(t+1) -> t/(1 + r)^(t+1)\n",
    "            A = x/r\n",
    "            B = 1 - pow(1 + r, -t)\n",
    "            A1 = -x/pow(r, 2)\n",
    "            B1 = t/pow(1 + r, t+1)\n",
    "            return A*B1 + B*A1\n",
    "\n",
    "        r0, r1 = 0.01, 0.99\n",
    "        while True:\n",
    "            r1 = r0 - (F(x, r0, t) - balance)/F1(x, r0, t)\n",
    "            if abs(r1 - r0) < 0.00001:\n",
    "                break\n",
    "            r0 = r1\n",
    "        return r1\n",
    "\n",
    "    balance = 500000\n",
    "    payment = 43000\n",
    "    time_payoff = 30\n",
    "\n",
    "    interest_rate = InterestRate(balance, payment, time_payoff)\n",
    "\n",
    "    value = (payment/interest_rate)*(1 - pow(1 + interest_rate, -time_payoff))\n",
    "    print(value)\n",
    "\n",
    "INTERESTRATE()"
   ]
  },
  {
   "cell_type": "code",
   "execution_count": 23,
   "id": "489516fa-3280-4f9d-8533-d7be890e4b4f",
   "metadata": {},
   "outputs": [
    {
     "name": "stdout",
     "output_type": "stream",
     "text": [
      "2.3300000000000836\n"
     ]
    }
   ],
   "source": [
    "def BlackScholes():\n",
    "\n",
    "    def DF(S, K, r, q, v, t):\n",
    "        top = np.log(S/K) + (r - q + 0.5*pow(v, 2))*t\n",
    "        bot = v*np.sqrt(t)\n",
    "        d1 = top/bot\n",
    "        d2 = d1 - bot\n",
    "        return d1, d2\n",
    "\n",
    "    def F(S, K, r, q, v, t):\n",
    "        d1, d2 = DF(S, K, r, q, v, t)\n",
    "        return S*np.exp(-q*t)*norm.cdf(d1) - K*np.exp(-r*t)*norm.cdf(d2)\n",
    "\n",
    "    def F1(S, K, r, q, v, t):\n",
    "        d1, d2 = DF(S, K, r, q, v, t)\n",
    "        return S*np.exp(-q*t)*np.sqrt(t)*norm.pdf(d1)\n",
    "\n",
    "    def ImpliedVolatility(opPrice, S, K, r, q, t):\n",
    "        v0 = 0.1\n",
    "        v1 = 0.55\n",
    "        while True:\n",
    "            v1 = v0 - (F(S, K, r, q, v0, t) - opPrice)/F1(S, K, r, q, v0, t)\n",
    "            if abs(v1 - v0) < 0.00001:\n",
    "                break\n",
    "            v0 = v1\n",
    "        return v1\n",
    "\n",
    "    option_price = 2.33\n",
    "    S = 100\n",
    "    K = 105\n",
    "    r = 0.05\n",
    "    q = 0.01\n",
    "    t = 0.5\n",
    "\n",
    "    IV = ImpliedVolatility(option_price, S, K, r, q, t)\n",
    "\n",
    "    d1, d2 = DF(S, K, r, q, IV, t)\n",
    "    check_price = S*np.exp(-q*t)*norm.cdf(d1) - K*np.exp(-r*t)*norm.cdf(d2)\n",
    "    print(check_price)\n",
    "\n",
    "BlackScholes()"
   ]
  },
  {
   "cell_type": "code",
   "execution_count": null,
   "id": "38017c4b-b492-4f9d-afbe-84c3f50a284a",
   "metadata": {},
   "outputs": [],
   "source": []
  }
 ],
 "metadata": {
  "kernelspec": {
   "display_name": "Python 3 (ipykernel)",
   "language": "python",
   "name": "python3"
  },
  "language_info": {
   "codemirror_mode": {
    "name": "ipython",
    "version": 3
   },
   "file_extension": ".py",
   "mimetype": "text/x-python",
   "name": "python",
   "nbconvert_exporter": "python",
   "pygments_lexer": "ipython3",
   "version": "3.11.9"
  }
 },
 "nbformat": 4,
 "nbformat_minor": 5
}
